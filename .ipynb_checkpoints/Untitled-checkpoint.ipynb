{
 "cells": [
  {
   "cell_type": "code",
   "execution_count": null,
   "id": "e6f446d7-d657-4dbe-abc9-2d4f5683d84f",
   "metadata": {},
   "outputs": [],
   "source": []
  }
 ],
 "metadata": {
  "kernelspec": {
   "display_name": "",
   "name": ""
  },
  "language_info": {
   "name": ""
  }
 },
 "nbformat": 4,
 "nbformat_minor": 5
}
