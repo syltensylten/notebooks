{
 "cells": [
  {
   "cell_type": "markdown",
   "metadata": {},
   "source": [
    "#### 1.1.4 Månens densitet <br>\n",
    "_Polradie_ = $1738.1\\ \\text{km}$ <br>\n",
    "_Ekvatorradie_ = $1736\\ \\text{km}$ <br>\n",
    "_Massa_ = $7,347673 \\times 10^{22}\\ \\text{kg}$"
   ]
  },
  {
   "cell_type": "code",
   "execution_count": 5,
   "metadata": {},
   "outputs": [
    {
     "name": "stdout",
     "output_type": "stream",
     "text": [
      "Månens volym: 2.1954601972793e+19 m^3\n",
      "Månens densitet: 3347.8174685691893 kg/m^3\n"
     ]
    }
   ],
   "source": [
    "import math\n",
    "\n",
    "radie_ekvator_km = 1738.1\n",
    "radie_pol_km = 1736\n",
    "medel_radie_km = (radie_ekvator_km + radie_pol_km) / 2\n",
    "radie_m = medel_radie_km * 10**3\n",
    "\n",
    "volym_månen_m3 = (4/3) * math.pi * radie_m**3\n",
    "\n",
    "print(f'Månens volym:', volym_månen_m3, f'm^3')\n",
    "\n",
    "massa_månen_kg = 7.35 * 10**22\n",
    "dens_månen_kg_m3 = massa_månen_kg / volym_månen_m3\n",
    "\n",
    "print(f'Månens densitet:', dens_månen_kg_m3, f'kg/m^3')"
   ]
  },
  {
   "cell_type": "markdown",
   "metadata": {},
   "source": [
    "#### 1.1.5 Satellit <br>\n",
    "En TV-satellit åker ett varv runt Jorden på 24 timmar. Radien på banan är\n",
    "42 000 km. Vilken fart har satelliten?"
   ]
  },
  {
   "cell_type": "code",
   "execution_count": 6,
   "metadata": {},
   "outputs": [
    {
     "name": "stdout",
     "output_type": "stream",
     "text": [
      "Timmar: 24 Minuter: 1440 Sekunder: 86400\n",
      "Satelitens fart är: 10995.574287564275 km/h\n"
     ]
    }
   ],
   "source": [
    "t_h_satellit = 24\n",
    "t_m_satellit = t_h_satellit * 60\n",
    "t_s_satellit = t_m_satellit * 60\n",
    "print(f'Timmar:', t_h_satellit, f'Minuter:', t_m_satellit, f'Sekunder:', t_s_satellit)\n",
    "\n",
    "r_omloppsb_km = 42000\n",
    "d_omloppsb_km = r_omloppsb_km * 2\n",
    "omkrets_jorden = math.pi * d_omloppsb_km \n",
    "\n",
    "hastighet_satellit = omkrets_jorden / t_h_satellit\n",
    "print(f'Satelitens fart är:', hastighet_satellit, f'km/h')"
   ]
  },
  {
   "cell_type": "markdown",
   "metadata": {},
   "source": [
    "#### 1.1.6 Solen <br>\n",
    "Jorden rör sig runt solen med en hastigehet på ungefär 30km/s. <br>\n",
    "Hur långt bort ligger solen?"
   ]
  },
  {
   "cell_type": "code",
   "execution_count": 7,
   "metadata": {},
   "outputs": [],
   "source": [
    "hastighet_jorden_km_s = 30\n"
   ]
  },
  {
   "cell_type": "markdown",
   "metadata": {},
   "source": [
    "#### 1.1.7 Kulan <br>\n",
    "Volymen av en sfär ges av $V = \\frac{4}{3} \\pi r^3$ där $R$ är sfärens radie.<br>\n",
    "Hur stor radie har sfären om den väger $1,0\\ \\text{kg}$ och har densiteten $2700\\ \\text{kg/}m^3$\n"
   ]
  },
  {
   "cell_type": "code",
   "execution_count": 8,
   "metadata": {},
   "outputs": [
    {
     "name": "stdout",
     "output_type": "stream",
     "text": [
      "Sfärens radie: 4.455015391906587 cm\n"
     ]
    }
   ],
   "source": [
    "massa_kg_sfär = 1\n",
    "dens_sfär_kg_m3 =  2700\n",
    "volym_sfär_m3 = massa_kg_sfär / dens_sfär_kg_m3\n",
    "r_sfär_m = ((3 * massa_kg_sfär) / (dens_sfär_kg_m3 * math.pi * 4))**(1/3)\n",
    "r_sfär_cm = r_sfär_m * 10**2\n",
    "print(f'Sfärens radie:', r_sfär_cm, f'cm')\n"
   ]
  },
  {
   "cell_type": "markdown",
   "metadata": {},
   "source": [
    "#### 1.1.8 Haven <br>\n",
    "Hur många år skulle det ta att tömma alla världshav om man tog bort 1000 liter (en kubikmeter) varje sekund? Du kan anta att ca 70% av jorden är täckt av haven, samt att medeldjupet är cirka 3,7 km."
   ]
  },
  {
   "cell_type": "code",
   "execution_count": 12,
   "metadata": {},
   "outputs": [
    {
     "name": "stdout",
     "output_type": "stream",
     "text": [
      "509504203.4175397 km^2\n"
     ]
    }
   ],
   "source": [
    "r_jorden_ekvator_km = 6378\n",
    "r_jorden_pol_km = 6357\n",
    "r_jorden_medelv_km = (r_jorden_ekvator_km + r_jorden_pol_km) / 2\n",
    "\n",
    "area_jorden_km2 = 4 * math.pi * r_jorden_medelv_km**2\n",
    "\n",
    "djup_hav_km = 3.7 \n",
    "area_hav_jorden = area_jorden_km2 * 0.7\n",
    "volym_hav_jorden = area_hav_jorden * 2 * djup_hav_km\n",
    "\n",
    "\n",
    "print(area_jorden_km2, f'km^2')"
   ]
  },
  {
   "cell_type": "code",
   "execution_count": null,
   "metadata": {},
   "outputs": [],
   "source": []
  }
 ],
 "metadata": {
  "kernelspec": {
   "display_name": "Python 3 (ipykernel)",
   "language": "python",
   "name": "python3"
  },
  "language_info": {
   "codemirror_mode": {
    "name": "ipython",
    "version": 3
   },
   "file_extension": ".py",
   "mimetype": "text/x-python",
   "name": "python",
   "nbconvert_exporter": "python",
   "pygments_lexer": "ipython3",
   "version": "3.12.3"
  }
 },
 "nbformat": 4,
 "nbformat_minor": 4
}
